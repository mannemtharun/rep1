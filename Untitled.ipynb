{
 "cells": [
  {
   "cell_type": "code",
   "execution_count": 6,
   "id": "9b5a6a3d",
   "metadata": {},
   "outputs": [],
   "source": [
    "import pandas as pd\n",
    "df=pd.read_csv(\"movie_scores.csv\")"
   ]
  },
  {
   "cell_type": "code",
   "execution_count": 7,
   "id": "cac736ae",
   "metadata": {},
   "outputs": [],
   "source": [
    "df.drop(['age',\"sex\",'pre_movie_score',\"post_movie_score\"],axis=1,inplace=True)\n"
   ]
  },
  {
   "cell_type": "code",
   "execution_count": 8,
   "id": "b87075ee",
   "metadata": {},
   "outputs": [
    {
     "data": {
      "text/html": [
       "<div>\n",
       "<style scoped>\n",
       "    .dataframe tbody tr th:only-of-type {\n",
       "        vertical-align: middle;\n",
       "    }\n",
       "\n",
       "    .dataframe tbody tr th {\n",
       "        vertical-align: top;\n",
       "    }\n",
       "\n",
       "    .dataframe thead th {\n",
       "        text-align: right;\n",
       "    }\n",
       "</style>\n",
       "<table border=\"1\" class=\"dataframe\">\n",
       "  <thead>\n",
       "    <tr style=\"text-align: right;\">\n",
       "      <th></th>\n",
       "      <th>first_name</th>\n",
       "      <th>last_name</th>\n",
       "    </tr>\n",
       "  </thead>\n",
       "  <tbody>\n",
       "    <tr>\n",
       "      <th>0</th>\n",
       "      <td>Tom</td>\n",
       "      <td>Hanks</td>\n",
       "    </tr>\n",
       "    <tr>\n",
       "      <th>1</th>\n",
       "      <td>NaN</td>\n",
       "      <td>NaN</td>\n",
       "    </tr>\n",
       "    <tr>\n",
       "      <th>2</th>\n",
       "      <td>Hugh</td>\n",
       "      <td>Jackman</td>\n",
       "    </tr>\n",
       "    <tr>\n",
       "      <th>3</th>\n",
       "      <td>Oprah</td>\n",
       "      <td>Winfrey</td>\n",
       "    </tr>\n",
       "    <tr>\n",
       "      <th>4</th>\n",
       "      <td>Emma</td>\n",
       "      <td>Stone</td>\n",
       "    </tr>\n",
       "  </tbody>\n",
       "</table>\n",
       "</div>"
      ],
      "text/plain": [
       "  first_name last_name\n",
       "0        Tom     Hanks\n",
       "1        NaN       NaN\n",
       "2       Hugh   Jackman\n",
       "3      Oprah   Winfrey\n",
       "4       Emma     Stone"
      ]
     },
     "execution_count": 8,
     "metadata": {},
     "output_type": "execute_result"
    }
   ],
   "source": [
    "df"
   ]
  },
  {
   "cell_type": "code",
   "execution_count": 44,
   "id": "4f18aa74",
   "metadata": {
    "scrolled": true
   },
   "outputs": [],
   "source": [
    "df.drop(1,axis=0,inplace=True)"
   ]
  },
  {
   "cell_type": "code",
   "execution_count": 45,
   "id": "b074360e",
   "metadata": {},
   "outputs": [
    {
     "data": {
      "text/html": [
       "<div>\n",
       "<style scoped>\n",
       "    .dataframe tbody tr th:only-of-type {\n",
       "        vertical-align: middle;\n",
       "    }\n",
       "\n",
       "    .dataframe tbody tr th {\n",
       "        vertical-align: top;\n",
       "    }\n",
       "\n",
       "    .dataframe thead th {\n",
       "        text-align: right;\n",
       "    }\n",
       "</style>\n",
       "<table border=\"1\" class=\"dataframe\">\n",
       "  <thead>\n",
       "    <tr style=\"text-align: right;\">\n",
       "      <th></th>\n",
       "      <th>first_name</th>\n",
       "      <th>last_name</th>\n",
       "    </tr>\n",
       "  </thead>\n",
       "  <tbody>\n",
       "    <tr>\n",
       "      <th>0</th>\n",
       "      <td>Tom</td>\n",
       "      <td>Hanks</td>\n",
       "    </tr>\n",
       "    <tr>\n",
       "      <th>2</th>\n",
       "      <td>Hugh</td>\n",
       "      <td>Jackman</td>\n",
       "    </tr>\n",
       "    <tr>\n",
       "      <th>3</th>\n",
       "      <td>Oprah</td>\n",
       "      <td>Winfrey</td>\n",
       "    </tr>\n",
       "    <tr>\n",
       "      <th>4</th>\n",
       "      <td>Emma</td>\n",
       "      <td>Stone</td>\n",
       "    </tr>\n",
       "  </tbody>\n",
       "</table>\n",
       "</div>"
      ],
      "text/plain": [
       "  first_name last_name\n",
       "0        Tom     Hanks\n",
       "2       Hugh   Jackman\n",
       "3      Oprah   Winfrey\n",
       "4       Emma     Stone"
      ]
     },
     "execution_count": 45,
     "metadata": {},
     "output_type": "execute_result"
    }
   ],
   "source": [
    "df"
   ]
  },
  {
   "cell_type": "code",
   "execution_count": 46,
   "id": "aea14a17",
   "metadata": {},
   "outputs": [],
   "source": [
    "from random import randint"
   ]
  },
  {
   "cell_type": "code",
   "execution_count": 56,
   "id": "aae3a0a2",
   "metadata": {},
   "outputs": [],
   "source": [
    "def test(n):\n",
    "    i=0\n",
    "    while i<n:\n",
    "        print(df[\"first_name\"].iloc[randint(0,3)],df[\"last_name\"].iloc[randint(0,3)])\n",
    "        i+=1"
   ]
  },
  {
   "cell_type": "code",
   "execution_count": 57,
   "id": "473f7807",
   "metadata": {
    "scrolled": false
   },
   "outputs": [
    {
     "name": "stdout",
     "output_type": "stream",
     "text": [
      "Tom Hanks\n",
      "Emma Stone\n",
      "Tom Jackman\n",
      "Hugh Stone\n",
      "Hugh Winfrey\n",
      "Hugh Hanks\n",
      "Tom Hanks\n"
     ]
    }
   ],
   "source": [
    "test(7)"
   ]
  },
  {
   "cell_type": "code",
   "execution_count": 58,
   "id": "0d43c0af",
   "metadata": {},
   "outputs": [
    {
     "name": "stdout",
     "output_type": "stream",
     "text": [
      "Collecting transliterate\n",
      "  Downloading transliterate-1.10.2-py2.py3-none-any.whl (45 kB)\n",
      "Requirement already satisfied: six>=1.1.0 in c:\\users\\tharu\\anaconda3\\envs\\new_environment\\lib\\site-packages (from transliterate) (1.16.0)\n",
      "Installing collected packages: transliterate\n",
      "Successfully installed transliterate-1.10.2\n",
      "Note: you may need to restart the kernel to use updated packages.\n"
     ]
    }
   ],
   "source": [
    "pip install transliterate"
   ]
  },
  {
   "cell_type": "code",
   "execution_count": 1,
   "id": "1181e7a2",
   "metadata": {},
   "outputs": [
    {
     "ename": "LanguagePackNotFound",
     "evalue": "Language pack for code hi is not found.",
     "output_type": "error",
     "traceback": [
      "\u001b[1;31m---------------------------------------------------------------------------\u001b[0m",
      "\u001b[1;31mLanguagePackNotFound\u001b[0m                      Traceback (most recent call last)",
      "Cell \u001b[1;32mIn[1], line 4\u001b[0m\n\u001b[0;32m      1\u001b[0m \u001b[38;5;28;01mfrom\u001b[39;00m \u001b[38;5;21;01mtransliterate\u001b[39;00m \u001b[38;5;28;01mimport\u001b[39;00m translit\n\u001b[0;32m      3\u001b[0m hindi_text \u001b[38;5;241m=\u001b[39m \u001b[38;5;124m\"\u001b[39m\u001b[38;5;124mहिन्दी टेक्स्ट\u001b[39m\u001b[38;5;124m\"\u001b[39m\n\u001b[1;32m----> 4\u001b[0m english_text \u001b[38;5;241m=\u001b[39m \u001b[43mtranslit\u001b[49m\u001b[43m(\u001b[49m\u001b[43mhindi_text\u001b[49m\u001b[43m,\u001b[49m\u001b[43m \u001b[49m\u001b[38;5;124;43m'\u001b[39;49m\u001b[38;5;124;43mhi\u001b[39;49m\u001b[38;5;124;43m'\u001b[39;49m\u001b[43m,\u001b[49m\u001b[43m \u001b[49m\u001b[38;5;124;43m'\u001b[39;49m\u001b[38;5;124;43men\u001b[39;49m\u001b[38;5;124;43m'\u001b[39;49m\u001b[43m)\u001b[49m\n\u001b[0;32m      6\u001b[0m \u001b[38;5;28mprint\u001b[39m(english_text)\n",
      "File \u001b[1;32m~\\anaconda3\\envs\\new_environment\\lib\\site-packages\\transliterate\\utils.py:89\u001b[0m, in \u001b[0;36mtranslit\u001b[1;34m(value, language_code, reversed, strict)\u001b[0m\n\u001b[0;32m     86\u001b[0m \u001b[38;5;28mcls\u001b[39m \u001b[38;5;241m=\u001b[39m registry\u001b[38;5;241m.\u001b[39mget(language_code)\n\u001b[0;32m     88\u001b[0m \u001b[38;5;28;01mif\u001b[39;00m \u001b[38;5;28mcls\u001b[39m \u001b[38;5;129;01mis\u001b[39;00m \u001b[38;5;28;01mNone\u001b[39;00m:\n\u001b[1;32m---> 89\u001b[0m     \u001b[38;5;28;01mraise\u001b[39;00m LanguagePackNotFound(\n\u001b[0;32m     90\u001b[0m         _(\u001b[38;5;124m\"\u001b[39m\u001b[38;5;124mLanguage pack for code \u001b[39m\u001b[38;5;132;01m%s\u001b[39;00m\u001b[38;5;124m is not found.\u001b[39m\u001b[38;5;124m\"\u001b[39m \u001b[38;5;241m%\u001b[39m language_code)\n\u001b[0;32m     91\u001b[0m     )\n\u001b[0;32m     93\u001b[0m language_pack \u001b[38;5;241m=\u001b[39m \u001b[38;5;28mcls\u001b[39m()\n\u001b[0;32m     94\u001b[0m \u001b[38;5;28;01mreturn\u001b[39;00m language_pack\u001b[38;5;241m.\u001b[39mtranslit(value, \u001b[38;5;28mreversed\u001b[39m\u001b[38;5;241m=\u001b[39m\u001b[38;5;28mreversed\u001b[39m, strict\u001b[38;5;241m=\u001b[39mstrict)\n",
      "\u001b[1;31mLanguagePackNotFound\u001b[0m: Language pack for code hi is not found."
     ]
    }
   ],
   "source": [
    "from transliterate import translit\n",
    "\n",
    "hindi_text = \"हिन्दी टेक्स्ट\"\n",
    "english_text = translit(hindi_text, 'hi', 'en')\n",
    "\n",
    "print(english_text)"
   ]
  },
  {
   "cell_type": "code",
   "execution_count": 2,
   "id": "c4b0533c",
   "metadata": {},
   "outputs": [
    {
     "name": "stdout",
     "output_type": "stream",
     "text": [
      "Requirement already satisfied: transliterate[hi] in c:\\users\\tharu\\anaconda3\\envs\\new_environment\\lib\\site-packages (1.10.2)\n",
      "Requirement already satisfied: six>=1.1.0 in c:\\users\\tharu\\anaconda3\\envs\\new_environment\\lib\\site-packages (from transliterate[hi]) (1.16.0)\n",
      "Note: you may need to restart the kernel to use updated packages.\n"
     ]
    },
    {
     "name": "stderr",
     "output_type": "stream",
     "text": [
      "WARNING: transliterate 1.10.2 does not provide the extra 'hi'\n"
     ]
    }
   ],
   "source": [
    "pip install transliterate[hi]\n"
   ]
  },
  {
   "cell_type": "code",
   "execution_count": 2,
   "id": "637ac56d",
   "metadata": {},
   "outputs": [],
   "source": [
    "from transliterate import translit, get_available_language_codes\n"
   ]
  },
  {
   "cell_type": "code",
   "execution_count": 3,
   "id": "67e30293",
   "metadata": {},
   "outputs": [
    {
     "name": "stdout",
     "output_type": "stream",
     "text": [
      "['bg', 'el', 'hy', 'ka', 'l1', 'mk', 'mn', 'ru', 'sr', 'uk']\n"
     ]
    }
   ],
   "source": [
    "print(get_available_language_codes())"
   ]
  },
  {
   "cell_type": "code",
   "execution_count": 4,
   "id": "dd58287b",
   "metadata": {},
   "outputs": [],
   "source": [
    "from transliterate import detect_language"
   ]
  },
  {
   "cell_type": "code",
   "execution_count": 5,
   "id": "afaa460c",
   "metadata": {},
   "outputs": [
    {
     "data": {
      "text/plain": [
       "'hy'"
      ]
     },
     "execution_count": 5,
     "metadata": {},
     "output_type": "execute_result"
    }
   ],
   "source": [
    "detect_language(u'Լօրեմ իպսում դօլօր սիտ ամետ')"
   ]
  },
  {
   "cell_type": "code",
   "execution_count": 1,
   "id": "663f46b3",
   "metadata": {},
   "outputs": [
    {
     "name": "stdout",
     "output_type": "stream",
     "text": [
      "Bonjour comment allez-vous?\n"
     ]
    }
   ],
   "source": [
    "from googletrans import Translator\n",
    "\n",
    "# Create a translator object\n",
    "translator = Translator()\n",
    "\n",
    "# Translate text from English to French\n",
    "text = \"Hello, how are you?\"\n",
    "translated_text = translator.translate(text, src='en', dest='fr')\n",
    "\n",
    "# Print the translated text\n",
    "print(translated_text.text)\n"
   ]
  },
  {
   "cell_type": "code",
   "execution_count": 2,
   "id": "cbef27d3",
   "metadata": {
    "collapsed": true
   },
   "outputs": [
    {
     "name": "stdout",
     "output_type": "stream",
     "text": [
      "Collecting googletrans==4.0.0-rc1\n",
      "  Using cached googletrans-4.0.0rc1.tar.gz (20 kB)\n",
      "Collecting httpx==0.13.3\n",
      "  Using cached httpx-0.13.3-py3-none-any.whl (55 kB)\n",
      "Collecting hstspreload\n",
      "  Using cached hstspreload-2023.1.1-py3-none-any.whl (1.5 MB)\n",
      "Requirement already satisfied: sniffio in c:\\users\\tharu\\anaconda3\\envs\\new_environment\\lib\\site-packages (from httpx==0.13.3->googletrans==4.0.0-rc1) (1.2.0)\n",
      "Requirement already satisfied: certifi in c:\\users\\tharu\\anaconda3\\envs\\new_environment\\lib\\site-packages (from httpx==0.13.3->googletrans==4.0.0-rc1) (2022.12.7)\n",
      "Collecting idna==2.*\n",
      "  Using cached idna-2.10-py2.py3-none-any.whl (58 kB)\n",
      "Collecting httpcore==0.9.*\n",
      "  Using cached httpcore-0.9.1-py3-none-any.whl (42 kB)\n",
      "Collecting chardet==3.*\n",
      "  Using cached chardet-3.0.4-py2.py3-none-any.whl (133 kB)\n",
      "Collecting rfc3986<2,>=1.3\n",
      "  Using cached rfc3986-1.5.0-py2.py3-none-any.whl (31 kB)\n",
      "Collecting h2==3.*\n",
      "  Using cached h2-3.2.0-py2.py3-none-any.whl (65 kB)\n",
      "Collecting h11<0.10,>=0.8\n",
      "  Using cached h11-0.9.0-py2.py3-none-any.whl (53 kB)\n",
      "Collecting hpack<4,>=3.0\n",
      "  Using cached hpack-3.0.0-py2.py3-none-any.whl (38 kB)\n",
      "Collecting hyperframe<6,>=5.2.0\n",
      "  Using cached hyperframe-5.2.0-py2.py3-none-any.whl (12 kB)\n",
      "Building wheels for collected packages: googletrans\n",
      "  Building wheel for googletrans (setup.py): started\n",
      "  Building wheel for googletrans (setup.py): finished with status 'done'\n",
      "  Created wheel for googletrans: filename=googletrans-4.0.0rc1-py3-none-any.whl size=17429 sha256=a906a2f87a92a1cff07de0d3c0fe0016bef5eb0e93aa40650d6558d934e7923a\n",
      "  Stored in directory: c:\\users\\tharu\\appdata\\local\\pip\\cache\\wheels\\c0\\59\\9f\\7372f0cf70160fe61b528532e1a7c8498c4becd6bcffb022de\n",
      "Successfully built googletrans\n",
      "Installing collected packages: hyperframe, hpack, h2, h11, rfc3986, idna, httpcore, hstspreload, chardet, httpx, googletrans\n",
      "  Attempting uninstall: idna\n",
      "    Found existing installation: idna 3.4\n",
      "    Uninstalling idna-3.4:\n",
      "      Successfully uninstalled idna-3.4\n",
      "Successfully installed chardet-3.0.4 googletrans-4.0.0rc1 h11-0.9.0 h2-3.2.0 hpack-3.0.0 hstspreload-2023.1.1 httpcore-0.9.1 httpx-0.13.3 hyperframe-5.2.0 idna-2.10 rfc3986-1.5.0\n",
      "Note: you may need to restart the kernel to use updated packages.\n"
     ]
    }
   ],
   "source": [
    "pip install googletrans==4.0.0-rc1\n"
   ]
  },
  {
   "cell_type": "code",
   "execution_count": 10,
   "id": "06a5be6e",
   "metadata": {},
   "outputs": [
    {
     "name": "stdout",
     "output_type": "stream",
     "text": [
      "thank you\n"
     ]
    }
   ],
   "source": [
    "from googletrans import Translator\n",
    "translator = Translator()\n",
    "text=\"ありがとう\"\n",
    "translated_text = translator.translate(text, dest='en')\n",
    "print(translated_text.text)\n"
   ]
  },
  {
   "cell_type": "code",
   "execution_count": null,
   "id": "39619ec5",
   "metadata": {},
   "outputs": [],
   "source": []
  }
 ],
 "metadata": {
  "kernelspec": {
   "display_name": "Python 3 (ipykernel)",
   "language": "python",
   "name": "python3"
  },
  "language_info": {
   "codemirror_mode": {
    "name": "ipython",
    "version": 3
   },
   "file_extension": ".py",
   "mimetype": "text/x-python",
   "name": "python",
   "nbconvert_exporter": "python",
   "pygments_lexer": "ipython3",
   "version": "3.10.4"
  }
 },
 "nbformat": 4,
 "nbformat_minor": 5
}
